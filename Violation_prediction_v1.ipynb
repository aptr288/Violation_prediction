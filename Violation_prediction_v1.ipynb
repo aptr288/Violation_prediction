{
  "nbformat": 4,
  "nbformat_minor": 0,
  "metadata": {
    "colab": {
      "name": "Violation_prediction_v1.ipynb",
      "provenance": [],
      "collapsed_sections": [],
      "authorship_tag": "ABX9TyPAR3ZUI5OvpAQJvdfoFcsO",
      "include_colab_link": true
    },
    "kernelspec": {
      "name": "python3",
      "display_name": "Python 3"
    }
  },
  "cells": [
    {
      "cell_type": "markdown",
      "metadata": {
        "id": "view-in-github",
        "colab_type": "text"
      },
      "source": [
        "<a href=\"https://colab.research.google.com/github/aptr288/Violation_prediction/blob/master/Violation_prediction_v1.ipynb\" target=\"_parent\"><img src=\"https://colab.research.google.com/assets/colab-badge.svg\" alt=\"Open In Colab\"/></a>"
      ]
    },
    {
      "cell_type": "markdown",
      "metadata": {
        "id": "z3amg8qLxV1z",
        "colab_type": "text"
      },
      "source": [
        "# Violation predition\n",
        "If given number which is flagged by scan tool to be potentially a credit card number our model determines if the number is falsely assumed to be a credit card number or its really confidential data which got exposed and need to be remediated.\n"
      ]
    },
    {
      "cell_type": "code",
      "metadata": {
        "id": "JhPIWQd675xU",
        "colab_type": "code",
        "colab": {}
      },
      "source": [
        "#importing required libraries  \n",
        "import os\n",
        "import pandas as pd\n",
        "pd.set_option('display.max_columns', None)\n",
        "pd.set_option('display.max_rows', None)\n",
        "import numpy as np\n",
        "import re\n",
        "from sklearn import metrics\n",
        "from sklearn import tree\n",
        "from sklearn.ensemble import RandomForestClassifier\n",
        "from sklearn.metrics import classification_report, confusion_matrix\n",
        "from sklearn.model_selection import train_test_split"
      ],
      "execution_count": 0,
      "outputs": []
    },
    {
      "cell_type": "code",
      "metadata": {
        "id": "TQnzg9C77kRo",
        "colab_type": "code",
        "outputId": "9c102bc7-4d9b-40a0-dd83-0cae18c10af5",
        "colab": {
          "base_uri": "https://localhost:8080/",
          "height": 52
        }
      },
      "source": [
        "#loading data from google drive\n",
        "os.getcwd()\n",
        "drive.mount('/content/drive')\n",
        "os.chdir(\"/content/drive/My Drive/Colab Notebooks/Violation_Prediction/\")\n",
        "os.listdir()"
      ],
      "execution_count": 172,
      "outputs": [
        {
          "output_type": "stream",
          "text": [
            "Drive already mounted at /content/drive; to attempt to forcibly remount, call drive.mount(\"/content/drive\", force_remount=True).\n"
          ],
          "name": "stdout"
        },
        {
          "output_type": "execute_result",
          "data": {
            "text/plain": [
              "['violation_data.csv', 'violation_data.txt', 'Violation_prediction.ipynb']"
            ]
          },
          "metadata": {
            "tags": []
          },
          "execution_count": 172
        }
      ]
    },
    {
      "cell_type": "code",
      "metadata": {
        "id": "kJZWCUxH6RQ7",
        "colab_type": "code",
        "colab": {}
      },
      "source": [
        "import pandas as pd\n",
        "df = pd.read_csv('violation_data.txt', sep=\",\")"
      ],
      "execution_count": 0,
      "outputs": []
    },
    {
      "cell_type": "code",
      "metadata": {
        "id": "zYxkJNPI8EPD",
        "colab_type": "code",
        "outputId": "d4cdf7ce-27ac-4ef5-f19f-0e07eec19d54",
        "colab": {
          "base_uri": "https://localhost:8080/",
          "height": 124
        }
      },
      "source": [
        "print(df.head())"
      ],
      "execution_count": 174,
      "outputs": [
        {
          "output_type": "stream",
          "text": [
            "       Credit_card              Label\n",
            "0  379475120338634  Needs Remediation\n",
            "1  344066675245878  Needs Remediation\n",
            "2  373505714729768  Needs Remediation\n",
            "3  376582856800761  Needs Remediation\n",
            "4  348898329695769  Needs Remediation\n"
          ],
          "name": "stdout"
        }
      ]
    },
    {
      "cell_type": "code",
      "metadata": {
        "id": "0YVaCFy7J8Sr",
        "colab_type": "code",
        "outputId": "fc4806c8-d265-461a-ecc4-8cf7ef2f40bd",
        "colab": {
          "base_uri": "https://localhost:8080/",
          "height": 35
        }
      },
      "source": [
        "print(df.shape)"
      ],
      "execution_count": 175,
      "outputs": [
        {
          "output_type": "stream",
          "text": [
            "(269, 2)\n"
          ],
          "name": "stdout"
        }
      ]
    },
    {
      "cell_type": "markdown",
      "metadata": {
        "id": "4cT3sc4mwC1M",
        "colab_type": "text"
      },
      "source": [
        "# Creating features from different type of inputs"
      ]
    },
    {
      "cell_type": "code",
      "metadata": {
        "id": "4_nrLVYtM0KT",
        "colab_type": "code",
        "colab": {}
      },
      "source": [
        "#Checks if given number only contains numricals\n",
        "df['IsDigit'] = df['Credit_card'].apply(lambda x: 1 if x.isdigit() else 0)"
      ],
      "execution_count": 0,
      "outputs": []
    },
    {
      "cell_type": "code",
      "metadata": {
        "id": "sBVfshEPZmw6",
        "colab_type": "code",
        "colab": {
          "base_uri": "https://localhost:8080/",
          "height": 35
        },
        "outputId": "6bdfce48-81e3-41f3-e69a-117053426368"
      },
      "source": [
        "#check if the credit card number is part of decimal number \n",
        "def isdecimal(value):\n",
        "  if re.match(r'\\d+\\.\\d+', value) is None:\n",
        "    return 0 \n",
        "  else:\n",
        "    return 1\n",
        "print(isdecimal('0.01000'))"
      ],
      "execution_count": 178,
      "outputs": [
        {
          "output_type": "stream",
          "text": [
            "1\n"
          ],
          "name": "stdout"
        }
      ]
    },
    {
      "cell_type": "code",
      "metadata": {
        "id": "VVqxIMN6ayC1",
        "colab_type": "code",
        "colab": {}
      },
      "source": [
        "df['Is_containing_decimal'] = df['Credit_card'].apply(lambda x: isdecimal(x))"
      ],
      "execution_count": 0,
      "outputs": []
    },
    {
      "cell_type": "code",
      "metadata": {
        "id": "qRV9LUTrbsFt",
        "colab_type": "code",
        "colab": {
          "base_uri": "https://localhost:8080/",
          "height": 35
        },
        "outputId": "57c63101-6fab-46e1-d3d6-315cd36baaf8"
      },
      "source": [
        "#credit number is part of random numbers with length greater than 16\n",
        "def card_num_part_of_random_num(x):\n",
        "  if (x.isdigit() and len(x) > 16 ) :\n",
        "    return 1\n",
        "  else:\n",
        "    return 0\n",
        "print(card_num_part_of_random_num('434444444444444444444444'))"
      ],
      "execution_count": 180,
      "outputs": [
        {
          "output_type": "stream",
          "text": [
            "1\n"
          ],
          "name": "stdout"
        }
      ]
    },
    {
      "cell_type": "code",
      "metadata": {
        "id": "ElhWN6dEbk_-",
        "colab_type": "code",
        "colab": {}
      },
      "source": [
        "df['Num_part_of_random_num'] = df['Credit_card'].apply(lambda x: card_num_part_of_random_num(x))"
      ],
      "execution_count": 0,
      "outputs": []
    },
    {
      "cell_type": "code",
      "metadata": {
        "id": "kr6_VPw1d9La",
        "colab_type": "code",
        "colab": {
          "base_uri": "https://localhost:8080/",
          "height": 35
        },
        "outputId": "2247517b-f2da-441b-d148-d6f96a6027bb"
      },
      "source": [
        "#Checks if the Credit card is part of text or column has text \n",
        "def num_part_of_text(value):\n",
        "  # print(re.match(r'.*[a-zA-Z]+.*', value))\n",
        "  if re.match(r'.*[a-zA-Z]+.*', value) is None:\n",
        "    return 0 \n",
        "  else:\n",
        "    return 1\n",
        "print(num_part_of_text('a'))"
      ],
      "execution_count": 182,
      "outputs": [
        {
          "output_type": "stream",
          "text": [
            "1\n"
          ],
          "name": "stdout"
        }
      ]
    },
    {
      "cell_type": "code",
      "metadata": {
        "id": "vBrcIaQThW6B",
        "colab_type": "code",
        "colab": {}
      },
      "source": [
        "df['Num_part_of_text'] = df['Credit_card'].apply(lambda x: num_part_of_text(x))"
      ],
      "execution_count": 0,
      "outputs": []
    },
    {
      "cell_type": "code",
      "metadata": {
        "id": "rhFRoblmkHqW",
        "colab_type": "code",
        "colab": {
          "base_uri": "https://localhost:8080/",
          "height": 35
        },
        "outputId": "e050c8ba-f5b3-4424-bc54-4b563e749580"
      },
      "source": [
        "#checks if a given credit card found valid but some of elements are repeating oddly the count of repeatation can be given\n",
        "def num_repeating(value, given_count): \n",
        "    for i in range(len(value)): \n",
        "        cur_count = 1\n",
        "        for j in range(i + 1, len(value)): \n",
        "      \n",
        "            if (value[i] != value[j]): \n",
        "                break\n",
        "            cur_count += 1\n",
        "        if cur_count >= given_count : \n",
        "            return 1\n",
        "    return 0\n",
        "print(num_repeating(\"aanaabbbaaaa\", 4))"
      ],
      "execution_count": 184,
      "outputs": [
        {
          "output_type": "stream",
          "text": [
            "1\n"
          ],
          "name": "stdout"
        }
      ]
    },
    {
      "cell_type": "code",
      "metadata": {
        "id": "wW1qcGGHnY3z",
        "colab_type": "code",
        "colab": {}
      },
      "source": [
        "df['Num_repeating'] = df['Credit_card'].apply(lambda x: num_repeating(x, 5))"
      ],
      "execution_count": 0,
      "outputs": []
    },
    {
      "cell_type": "code",
      "metadata": {
        "id": "AasVGVwTbMz9",
        "colab_type": "code",
        "colab": {
          "base_uri": "https://localhost:8080/",
          "height": 200
        },
        "outputId": "077169ac-05f8-4740-b0ef-f77b9ea307e4"
      },
      "source": [
        "df.head()"
      ],
      "execution_count": 186,
      "outputs": [
        {
          "output_type": "execute_result",
          "data": {
            "text/html": [
              "<div>\n",
              "<style scoped>\n",
              "    .dataframe tbody tr th:only-of-type {\n",
              "        vertical-align: middle;\n",
              "    }\n",
              "\n",
              "    .dataframe tbody tr th {\n",
              "        vertical-align: top;\n",
              "    }\n",
              "\n",
              "    .dataframe thead th {\n",
              "        text-align: right;\n",
              "    }\n",
              "</style>\n",
              "<table border=\"1\" class=\"dataframe\">\n",
              "  <thead>\n",
              "    <tr style=\"text-align: right;\">\n",
              "      <th></th>\n",
              "      <th>Credit_card</th>\n",
              "      <th>Label</th>\n",
              "      <th>IsDigit</th>\n",
              "      <th>Is_containing_decimal</th>\n",
              "      <th>Num_part_of_random_num</th>\n",
              "      <th>Num_part_of_text</th>\n",
              "      <th>Num_repeating</th>\n",
              "    </tr>\n",
              "  </thead>\n",
              "  <tbody>\n",
              "    <tr>\n",
              "      <th>0</th>\n",
              "      <td>379475120338634</td>\n",
              "      <td>Needs Remediation</td>\n",
              "      <td>1</td>\n",
              "      <td>0</td>\n",
              "      <td>0</td>\n",
              "      <td>0</td>\n",
              "      <td>0</td>\n",
              "    </tr>\n",
              "    <tr>\n",
              "      <th>1</th>\n",
              "      <td>344066675245878</td>\n",
              "      <td>Needs Remediation</td>\n",
              "      <td>1</td>\n",
              "      <td>0</td>\n",
              "      <td>0</td>\n",
              "      <td>0</td>\n",
              "      <td>0</td>\n",
              "    </tr>\n",
              "    <tr>\n",
              "      <th>2</th>\n",
              "      <td>373505714729768</td>\n",
              "      <td>Needs Remediation</td>\n",
              "      <td>1</td>\n",
              "      <td>0</td>\n",
              "      <td>0</td>\n",
              "      <td>0</td>\n",
              "      <td>0</td>\n",
              "    </tr>\n",
              "    <tr>\n",
              "      <th>3</th>\n",
              "      <td>376582856800761</td>\n",
              "      <td>Needs Remediation</td>\n",
              "      <td>1</td>\n",
              "      <td>0</td>\n",
              "      <td>0</td>\n",
              "      <td>0</td>\n",
              "      <td>0</td>\n",
              "    </tr>\n",
              "    <tr>\n",
              "      <th>4</th>\n",
              "      <td>348898329695769</td>\n",
              "      <td>Needs Remediation</td>\n",
              "      <td>1</td>\n",
              "      <td>0</td>\n",
              "      <td>0</td>\n",
              "      <td>0</td>\n",
              "      <td>0</td>\n",
              "    </tr>\n",
              "  </tbody>\n",
              "</table>\n",
              "</div>"
            ],
            "text/plain": [
              "       Credit_card              Label  IsDigit  Is_containing_decimal  \\\n",
              "0  379475120338634  Needs Remediation        1                      0   \n",
              "1  344066675245878  Needs Remediation        1                      0   \n",
              "2  373505714729768  Needs Remediation        1                      0   \n",
              "3  376582856800761  Needs Remediation        1                      0   \n",
              "4  348898329695769  Needs Remediation        1                      0   \n",
              "\n",
              "   Num_part_of_random_num  Num_part_of_text  Num_repeating  \n",
              "0                       0                 0              0  \n",
              "1                       0                 0              0  \n",
              "2                       0                 0              0  \n",
              "3                       0                 0              0  \n",
              "4                       0                 0              0  "
            ]
          },
          "metadata": {
            "tags": []
          },
          "execution_count": 186
        }
      ]
    },
    {
      "cell_type": "code",
      "metadata": {
        "id": "cjo-Tnfiowdn",
        "colab_type": "code",
        "colab": {}
      },
      "source": [
        "#converting the labels to numaricals \n",
        "df['Label'] = df['Label'].apply(lambda x: 1 if x == \"Needs Remediation\" else 0)"
      ],
      "execution_count": 0,
      "outputs": []
    },
    {
      "cell_type": "code",
      "metadata": {
        "id": "aM9Q0CF9qnah",
        "colab_type": "code",
        "colab": {}
      },
      "source": [
        "#preparing train test data \n",
        "y =df['Label']\n",
        "X = df.drop(['Label'], axis=1)\n",
        "X_train, X_test, y_train, y_test = train_test_split(X, y, test_size=0.2)\n",
        "X_train = X_train.drop(['Credit_card'], axis=1)\n"
      ],
      "execution_count": 0,
      "outputs": []
    },
    {
      "cell_type": "code",
      "metadata": {
        "id": "o81hMZQGqfci",
        "colab_type": "code",
        "colab": {}
      },
      "source": [
        "#decision tree model \n",
        "destree = tree.DecisionTreeClassifier()\n",
        "destree.fit(X_train, y_train)\n",
        "ydecpred = destree.predict(X_test.drop(['Credit_card'], axis=1))"
      ],
      "execution_count": 0,
      "outputs": []
    },
    {
      "cell_type": "markdown",
      "metadata": {
        "id": "6IXZMdR2v6Yw",
        "colab_type": "text"
      },
      "source": [
        "# Test the results of model"
      ]
    },
    {
      "cell_type": "code",
      "metadata": {
        "id": "RwPKkR78tQWP",
        "colab_type": "code",
        "colab": {
          "base_uri": "https://localhost:8080/",
          "height": 319
        },
        "outputId": "64666c06-5cd8-44b6-aa17-fde594b46db1"
      },
      "source": [
        "print(X_test.iloc[0:5],end=\"\\n\")\n",
        "print(\"======================================\\n\")\n",
        "print(\"The predicted results for above features\")\n",
        "print(ydecpred[0:5])"
      ],
      "execution_count": 203,
      "outputs": [
        {
          "output_type": "stream",
          "text": [
            "                           Credit_card  IsDigit  Is_containing_decimal  \\\n",
            "217                  0.038903543758156        0                      1   \n",
            "203  XXXXX38600441111111111XXXXX545115        0                      0   \n",
            "30                     348243304386185        1                      0   \n",
            "264              419298345968000278787        1                      0   \n",
            "100                   6011791198486274        1                      0   \n",
            "\n",
            "     Num_part_of_random_num  Num_part_of_text  Num_repeating  \n",
            "217                       0                 0              0  \n",
            "203                       0                 1              1  \n",
            "30                        0                 0              0  \n",
            "264                       1                 0              0  \n",
            "100                       0                 0              0  \n",
            "======================================\n",
            "\n",
            "The predicted results for above features\n",
            "[0 0 1 0 1]\n"
          ],
          "name": "stdout"
        }
      ]
    },
    {
      "cell_type": "markdown",
      "metadata": {
        "id": "95XWltgH0QfL",
        "colab_type": "text"
      },
      "source": [
        "1.   The first record is CC number wrongly found in after decimal point so predicted as **false positive**\n",
        "2.   The second record is CC number wrongly found in among delinquency count or between text so predicted as **false positive**\n",
        "3. The third record seems to be legitimate credit card finding which **Needs remediation**.\n",
        "\n",
        "\n"
      ]
    }
  ]
}